{
 "cells": [
  {
   "cell_type": "code",
   "execution_count": 1,
   "metadata": {},
   "outputs": [
    {
     "name": "stderr",
     "output_type": "stream",
     "text": [
      "Using TensorFlow backend.\n"
     ]
    }
   ],
   "source": [
    "import tensorflow as tf\n",
    "from tensorflow.keras import datasets, layers, models\n",
    "from keras.utils import to_categorical\n",
    "from keras.models import Sequential\n",
    "from keras.layers import Convolution1D,MaxPooling1D,BatchNormalization,Flatten,Dense, Dropout, Activation,LSTM\n",
    "from keras import optimizers\n",
    "\n",
    "import os\n",
    "import numpy as np\n",
    "from sklearn.model_selection import train_test_split\n",
    "\n",
    "import matplotlib.pyplot as plt"
   ]
  },
  {
   "cell_type": "code",
   "execution_count": 2,
   "metadata": {},
   "outputs": [],
   "source": [
    "\n",
    "def lstm(epochs): #reshape필요\n",
    "    global X,Y,hist\n",
    "    \n",
    "    \n",
    "    X = np.array(X)\n",
    "    Y = np.array(Y)\n",
    "    X_=np.reshape(X,[-1,xshape,1])\n",
    "\n",
    "    X_train, X_test, Y_train, Y_test = train_test_split(X_,Y)\n",
    "\n",
    "    print(X_.shape)\n",
    "    \n",
    "    model = Sequential()\n",
    "    model.add(LSTM(32, input_shape=(xshape,1)))\n",
    "    model.add(Dropout(0.2))\n",
    "    model.add(Dense(64, activation='relu'))\n",
    "    model.add(Dropout(0.2))\n",
    "    model.add(Dense(2,activation='softmax'))\n",
    "    #model.summary()\n",
    "\n",
    "    model.compile(loss='sparse_categorical_crossentropy', optimizer='adam', metrics=['accuracy'])\n",
    "    hist=model.fit(X_train, Y_train, nb_epoch=epochs,batch_size=20, verbose=2, validation_split=0.1)\n",
    "    \n",
    "    test_loss, test_acc = model.evaluate(X_test,  Y_test, verbose=2) #실제 test_data 테스트 결과\n",
    "    print(\"LSTM\",test_loss, test_acc)\n",
    "    doplot()\n",
    "\n",
    "    \n",
    "def doplot(): #plot함수\n",
    "    global hist\n",
    "    plt.plot(hist.history['accuracy'])\n",
    "    plt.plot(hist.history['val_accuracy'])\n",
    "    plt.title('model accuracy')\n",
    "    plt.ylabel('accuracy')\n",
    "    plt.xlabel('epoch')\n",
    "    plt.legend([ 'acc', 'val_acc'], loc='upper left')\n",
    "    plt.show()\n",
    "    \n",
    "    plt.plot(hist.history['loss'])\n",
    "    plt.plot(hist.history['val_loss'])\n",
    "    plt.title('model loss')\n",
    "    plt.ylabel('loss')\n",
    "    plt.xlabel('epoch')\n",
    "    plt.legend(['loss', 'val_loss'], loc='upper left')\n",
    "    plt.show()"
   ]
  },
  {
   "cell_type": "code",
   "execution_count": 7,
   "metadata": {},
   "outputs": [
    {
     "data": {
      "text/plain": [
       "'\\ndef DA_Scaling(X, sigma=0.1):\\n    scalingFactor = np.random.normal(loc=1.0, scale=sigma, size=(1,X.shape[1])) # shape=(1,3)\\n    myNoise = np.matmul(np.ones((X.shape[0],1)), scalingFactor)\\n    return X*myNoise\\n\\ndef GenerateRandomCurves(X, sigma=0.2, knot=4):\\n    xx = (np.ones((X.shape[1],1))*(np.arange(0,X.shape[0], (X.shape[0]-1)/(knot+1)))).transpose()\\n    yy = np.random.normal(loc=1.0, scale=sigma, size=(knot+2, X.shape[1]))\\n    x_range = np.arange(X.shape[0])\\n    cs_a = CubicSpline(xx[:,0], yy[:,0])\\n    cs_b = CubicSpline(xx[:,1], yy[:,1])\\n    cs_c = CubicSpline(xx[:,2], yy[:,2])\\n    cs_d = CubicSpline(xx[:,3], yy[:,3])\\n    return np.array([cs_a(x_range),cs_b(x_range),cs_c(x_range),cs_d(x_range)]).transpose()\\n\\ndef DA_MagWarp(X, sigma=0.2):\\n    return X * GenerateRandomCurves(X, sigma)\\n\\ndef DA_Rotation(X):\\n    axis = np.random.uniform(low=-1, high=1, size=X.shape[1])\\n    angle = np.random.uniform(low=-np.pi, high=np.pi)\\n    return np.matmul(X , axangle2mat(axis,angle))\\n'"
      ]
     },
     "execution_count": 7,
     "metadata": {},
     "output_type": "execute_result"
    }
   ],
   "source": [
    "\n",
    "def DA_Jitter(X, sigma=0.075):\n",
    "    myNoise = np.random.normal(loc=0, scale=sigma, size=X.shape)\n",
    "    return X+myNoise\n",
    "\n",
    "'''\n",
    "def DA_Scaling(X, sigma=0.1):\n",
    "    scalingFactor = np.random.normal(loc=1.0, scale=sigma, size=(1,X.shape[1])) # shape=(1,3)\n",
    "    myNoise = np.matmul(np.ones((X.shape[0],1)), scalingFactor)\n",
    "    return X*myNoise\n",
    "\n",
    "def GenerateRandomCurves(X, sigma=0.2, knot=4):\n",
    "    xx = (np.ones((X.shape[1],1))*(np.arange(0,X.shape[0], (X.shape[0]-1)/(knot+1)))).transpose()\n",
    "    yy = np.random.normal(loc=1.0, scale=sigma, size=(knot+2, X.shape[1]))\n",
    "    x_range = np.arange(X.shape[0])\n",
    "    cs_a = CubicSpline(xx[:,0], yy[:,0])\n",
    "    cs_b = CubicSpline(xx[:,1], yy[:,1])\n",
    "    cs_c = CubicSpline(xx[:,2], yy[:,2])\n",
    "    cs_d = CubicSpline(xx[:,3], yy[:,3])\n",
    "    return np.array([cs_a(x_range),cs_b(x_range),cs_c(x_range),cs_d(x_range)]).transpose()\n",
    "\n",
    "def DA_MagWarp(X, sigma=0.2):\n",
    "    return X * GenerateRandomCurves(X, sigma)\n",
    "\n",
    "def DA_Rotation(X):\n",
    "    axis = np.random.uniform(low=-1, high=1, size=X.shape[1])\n",
    "    angle = np.random.uniform(low=-np.pi, high=np.pi)\n",
    "    return np.matmul(X , axangle2mat(axis,angle))\n",
    "'''"
   ]
  },
  {
   "cell_type": "code",
   "execution_count": 11,
   "metadata": {
    "scrolled": false
   },
   "outputs": [
    {
     "name": "stdout",
     "output_type": "stream",
     "text": [
      "sub8_data.npy\n",
      "sub8_label.npy\n",
      "aug전  (1202, 28) (1202,)\n",
      "aug후  (2404, 28) (2404,)\n",
      "(1803, 28) (601, 28)\n",
      "(2404, 28, 1)\n"
     ]
    },
    {
     "name": "stderr",
     "output_type": "stream",
     "text": [
      "C:\\Users\\jaewon\\Anaconda3\\lib\\site-packages\\ipykernel_launcher.py:22: UserWarning: The `nb_epoch` argument in `fit` has been renamed `epochs`.\n"
     ]
    },
    {
     "name": "stdout",
     "output_type": "stream",
     "text": [
      "Train on 1622 samples, validate on 181 samples\n",
      "Epoch 1/50\n",
      " - 2s - loss: 0.6468 - accuracy: 0.6695 - val_loss: 0.5861 - val_accuracy: 0.7072\n",
      "Epoch 2/50\n",
      " - 1s - loss: 0.5864 - accuracy: 0.6819 - val_loss: 0.5626 - val_accuracy: 0.7072\n",
      "Epoch 3/50\n",
      " - 1s - loss: 0.5717 - accuracy: 0.6991 - val_loss: 0.5709 - val_accuracy: 0.6796\n",
      "Epoch 4/50\n",
      " - 1s - loss: 0.5583 - accuracy: 0.7028 - val_loss: 0.5625 - val_accuracy: 0.7072\n",
      "Epoch 5/50\n",
      " - 1s - loss: 0.5164 - accuracy: 0.7343 - val_loss: 0.5127 - val_accuracy: 0.7348\n",
      "Epoch 6/50\n",
      " - 1s - loss: 0.4921 - accuracy: 0.7417 - val_loss: 0.5162 - val_accuracy: 0.7238\n",
      "Epoch 7/50\n",
      " - 1s - loss: 0.4876 - accuracy: 0.7472 - val_loss: 0.5022 - val_accuracy: 0.7459\n",
      "Epoch 8/50\n",
      " - 1s - loss: 0.4751 - accuracy: 0.7552 - val_loss: 0.5006 - val_accuracy: 0.7348\n",
      "Epoch 9/50\n",
      " - 1s - loss: 0.4745 - accuracy: 0.7522 - val_loss: 0.4881 - val_accuracy: 0.7403\n",
      "Epoch 10/50\n",
      " - 1s - loss: 0.4599 - accuracy: 0.7682 - val_loss: 0.4956 - val_accuracy: 0.7459\n",
      "Epoch 11/50\n",
      " - 1s - loss: 0.4634 - accuracy: 0.7633 - val_loss: 0.4955 - val_accuracy: 0.7459\n",
      "Epoch 12/50\n",
      " - 1s - loss: 0.4653 - accuracy: 0.7602 - val_loss: 0.4881 - val_accuracy: 0.7403\n",
      "Epoch 13/50\n",
      " - 1s - loss: 0.4558 - accuracy: 0.7676 - val_loss: 0.4650 - val_accuracy: 0.7459\n",
      "Epoch 14/50\n",
      " - 1s - loss: 0.4512 - accuracy: 0.7725 - val_loss: 0.4718 - val_accuracy: 0.7348\n",
      "Epoch 15/50\n",
      " - 1s - loss: 0.4545 - accuracy: 0.7651 - val_loss: 0.4638 - val_accuracy: 0.7514\n",
      "Epoch 16/50\n",
      " - 1s - loss: 0.4408 - accuracy: 0.7719 - val_loss: 0.4699 - val_accuracy: 0.7514\n",
      "Epoch 17/50\n",
      " - 1s - loss: 0.4358 - accuracy: 0.7713 - val_loss: 0.4701 - val_accuracy: 0.7845\n",
      "Epoch 18/50\n",
      " - 1s - loss: 0.4377 - accuracy: 0.7737 - val_loss: 0.4658 - val_accuracy: 0.8066\n",
      "Epoch 19/50\n",
      " - 1s - loss: 0.4329 - accuracy: 0.7805 - val_loss: 0.4647 - val_accuracy: 0.7624\n",
      "Epoch 20/50\n",
      " - 1s - loss: 0.4292 - accuracy: 0.7774 - val_loss: 0.4507 - val_accuracy: 0.8066\n",
      "Epoch 21/50\n",
      " - 1s - loss: 0.4418 - accuracy: 0.7793 - val_loss: 0.4458 - val_accuracy: 0.7514\n",
      "Epoch 22/50\n",
      " - 1s - loss: 0.4295 - accuracy: 0.7818 - val_loss: 0.4301 - val_accuracy: 0.7735\n",
      "Epoch 23/50\n",
      " - 1s - loss: 0.4206 - accuracy: 0.7818 - val_loss: 0.4382 - val_accuracy: 0.7790\n",
      "Epoch 24/50\n",
      " - 1s - loss: 0.4209 - accuracy: 0.7910 - val_loss: 0.4328 - val_accuracy: 0.7790\n",
      "Epoch 25/50\n",
      " - 1s - loss: 0.4100 - accuracy: 0.7904 - val_loss: 0.4306 - val_accuracy: 0.7735\n",
      "Epoch 26/50\n",
      " - 1s - loss: 0.4118 - accuracy: 0.7873 - val_loss: 0.4320 - val_accuracy: 0.7790\n",
      "Epoch 27/50\n",
      " - 1s - loss: 0.4165 - accuracy: 0.7965 - val_loss: 0.4288 - val_accuracy: 0.8066\n",
      "Epoch 28/50\n",
      " - 1s - loss: 0.4059 - accuracy: 0.8009 - val_loss: 0.4186 - val_accuracy: 0.8011\n",
      "Epoch 29/50\n",
      " - 1s - loss: 0.4053 - accuracy: 0.8058 - val_loss: 0.4308 - val_accuracy: 0.8232\n",
      "Epoch 30/50\n",
      " - 1s - loss: 0.4047 - accuracy: 0.7996 - val_loss: 0.4091 - val_accuracy: 0.8177\n",
      "Epoch 31/50\n",
      " - 1s - loss: 0.3909 - accuracy: 0.8113 - val_loss: 0.4188 - val_accuracy: 0.8066\n",
      "Epoch 32/50\n",
      " - 1s - loss: 0.3952 - accuracy: 0.8138 - val_loss: 0.4089 - val_accuracy: 0.8066\n",
      "Epoch 33/50\n",
      " - 1s - loss: 0.4020 - accuracy: 0.8064 - val_loss: 0.3984 - val_accuracy: 0.8287\n",
      "Epoch 34/50\n",
      " - 1s - loss: 0.3875 - accuracy: 0.8113 - val_loss: 0.4049 - val_accuracy: 0.8066\n",
      "Epoch 35/50\n",
      " - 1s - loss: 0.3770 - accuracy: 0.8231 - val_loss: 0.4066 - val_accuracy: 0.8011\n",
      "Epoch 36/50\n",
      " - 1s - loss: 0.3948 - accuracy: 0.8120 - val_loss: 0.3920 - val_accuracy: 0.8564\n",
      "Epoch 37/50\n",
      " - 1s - loss: 0.3709 - accuracy: 0.8255 - val_loss: 0.4038 - val_accuracy: 0.8343\n",
      "Epoch 38/50\n",
      " - 1s - loss: 0.3812 - accuracy: 0.8274 - val_loss: 0.3935 - val_accuracy: 0.8232\n",
      "Epoch 39/50\n",
      " - 1s - loss: 0.3629 - accuracy: 0.8403 - val_loss: 0.4007 - val_accuracy: 0.8287\n",
      "Epoch 40/50\n",
      " - 1s - loss: 0.3672 - accuracy: 0.8237 - val_loss: 0.3780 - val_accuracy: 0.8398\n",
      "Epoch 41/50\n",
      " - 1s - loss: 0.3653 - accuracy: 0.8298 - val_loss: 0.3768 - val_accuracy: 0.8122\n",
      "Epoch 42/50\n",
      " - 1s - loss: 0.3538 - accuracy: 0.8298 - val_loss: 0.3990 - val_accuracy: 0.8232\n",
      "Epoch 43/50\n",
      " - 1s - loss: 0.3440 - accuracy: 0.8422 - val_loss: 0.3852 - val_accuracy: 0.8453\n",
      "Epoch 44/50\n",
      " - 1s - loss: 0.3515 - accuracy: 0.8329 - val_loss: 0.3504 - val_accuracy: 0.8343\n",
      "Epoch 45/50\n",
      " - 1s - loss: 0.3479 - accuracy: 0.8298 - val_loss: 0.3623 - val_accuracy: 0.8398\n",
      "Epoch 46/50\n",
      " - 1s - loss: 0.3415 - accuracy: 0.8403 - val_loss: 0.3448 - val_accuracy: 0.8453\n",
      "Epoch 47/50\n",
      " - 1s - loss: 0.3439 - accuracy: 0.8385 - val_loss: 0.3371 - val_accuracy: 0.8453\n",
      "Epoch 48/50\n",
      " - 1s - loss: 0.3295 - accuracy: 0.8428 - val_loss: 0.3502 - val_accuracy: 0.8508\n",
      "Epoch 49/50\n",
      " - 1s - loss: 0.3320 - accuracy: 0.8434 - val_loss: 0.3496 - val_accuracy: 0.8177\n",
      "Epoch 50/50\n",
      " - 1s - loss: 0.3226 - accuracy: 0.8465 - val_loss: 0.3185 - val_accuracy: 0.8343\n",
      "LSTM 0.3200061979289856 0.861896812915802\n"
     ]
    },
    {
     "data": {
      "image/png": "[encoded data removed]",
      "text/plain": [
       "<Figure size 432x288 with 1 Axes>"
      ]
     },
     "metadata": {
      "needs_background": "light"
     },
     "output_type": "display_data"
    },
    {
     "data": {
      "image/png": "[encoded data removed]",
      "text/plain": [
       "<Figure size 432x288 with 1 Axes>"
      ]
     },
     "metadata": {
      "needs_background": "light"
     },
     "output_type": "display_data"
    }
   ],
   "source": [
    "#전체용\n",
    "filepath='./fbcsp_numpy_result/'\n",
    "num_classes=2 #분류할 클래스 개수\n",
    "X=[]\n",
    "Y=[]\n",
    "for file in os.listdir(filepath):\n",
    "    if 'data' in file and 'sub8' in file:\n",
    "        print(file)\n",
    "        if len(X)==0:\n",
    "            X=np.load(filepath+file)\n",
    "        else:\n",
    "            X1=np.load(filepath+file)\n",
    "            X=np.concatenate((X,X1),axis=0)\n",
    "    elif 'label' in file and 'sub8' in file:\n",
    "        print(file)\n",
    "        if len(Y)==0:\n",
    "            Y=np.load(filepath+file)\n",
    "        else:\n",
    "            Y1=np.load(filepath+file)\n",
    "            Y=np.concatenate((Y,Y1),axis=0)\n",
    "\n",
    "X = np.array(X)\n",
    "Y = np.array(Y)\n",
    "print(\"aug전 \",X.shape,Y.shape)\n",
    "\n",
    "X=np.concatenate((X,DA_Jitter(X)),axis=0)\n",
    "#X=np.concatenate((X,DA_Scaling(X)),axis=0)\n",
    "#X=np.concatenate((X,DA_MagWarp(X)),axis=0) #코드수정필요\n",
    "#X=np.concatenate((X,DA_Rotation(X)),axis=0) #rotation import해와야함\n",
    "#Y=np.concatenate((Y,Y),axis=0)\n",
    "Y=np.concatenate((Y,Y),axis=0)\n",
    "\n",
    "print(\"aug후 \",X.shape,Y.shape)\n",
    "\n",
    "X_train, X_test, Y_train, Y_test = train_test_split(X,Y)\n",
    "print(X_train.shape, X_test.shape)\n",
    "\n",
    "xshape=X.shape[1]\n",
    "hist=1 #global 변수선언용\n",
    "\n",
    "lstm(50)"
   ]
  },
  {
   "cell_type": "code",
   "execution_count": null,
   "metadata": {},
   "outputs": [],
   "source": []
  }
 ],
 "metadata": {
  "kernelspec": {
   "display_name": "Python 3",
   "language": "python",
   "name": "python3"
  },
  "language_info": {
   "codemirror_mode": {
    "name": "ipython",
    "version": 3
   },
   "file_extension": ".py",
   "mimetype": "text/x-python",
   "name": "python",
   "nbconvert_exporter": "python",
   "pygments_lexer": "ipython3",
   "version": "3.7.3"
  }
 },
 "nbformat": 4,
 "nbformat_minor": 2
}
