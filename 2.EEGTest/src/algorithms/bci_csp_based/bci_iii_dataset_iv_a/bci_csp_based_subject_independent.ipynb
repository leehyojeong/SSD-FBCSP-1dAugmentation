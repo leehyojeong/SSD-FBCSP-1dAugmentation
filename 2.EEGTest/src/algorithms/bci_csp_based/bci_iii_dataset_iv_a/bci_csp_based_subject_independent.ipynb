{
 "cells": [
  {
   "cell_type": "code",
   "execution_count": 1,
   "outputs": [],
   "source": [
    "from src.data_preparation.data_preparation import read_eeg_files\n",
    "from scipy import signal\n",
    "from src.algorithms.csp.CSP import CSP\n",
    "import pywt\n",
    "from scipy import stats\n",
    "from sklearn.model_selection import KFold\n",
    "from sklearn.naive_bayes import GaussianNB\n",
    "from sklearn.svm import SVC\n",
    "from sklearn.discriminant_analysis import LinearDiscriminantAnalysis\n",
    "from sklearn.metrics import accuracy_score\n",
    "import numpy as np"
   ],
   "metadata": {
    "collapsed": false,
    "pycharm": {
     "name": "#%%\n",
     "is_executing": false
    }
   }
  },
  {
   "cell_type": "markdown",
   "source": [
    "Declaration of important values used during the pipeline "
   ],
   "metadata": {
    "collapsed": false
   }
  },
  {
   "cell_type": "code",
   "execution_count": 2,
   "outputs": [],
   "source": [
    "TIME_LENGTH = 300\n",
    "TIME_WINDOW = 300\n",
    "EPOCH_SIZE = None\n",
    "DATA_FOLDER = \"data/bci-csp-based/bci-iii-dataset-iv-a\"\n",
    "CSP_COMPONENTS = 8\n",
    "FS = 100\n",
    "WAVELET = \"coif1\"\n",
    "K_FOLD = 10"
   ],
   "metadata": {
    "collapsed": false,
    "pycharm": {
     "name": "#%%\n",
     "is_executing": false
    }
   }
  },
  {
   "cell_type": "markdown",
   "source": [
    "Create the subjects object and a dictionary to store the accuracies"
   ],
   "metadata": {
    "collapsed": false
   }
  },
  {
   "cell_type": "code",
   "execution_count": 8,
   "outputs": [],
   "source": [
    "subjects = range(1, 6)\n",
    "subjects_set = set(subjects)\n",
    "accuracies = {\n",
    "    \"GNB\": np.zeros(K_FOLD),\n",
    "    \"SVM\": np.zeros(K_FOLD),\n",
    "    \"LDA\": np.zeros(K_FOLD)\n",
    "}"
   ],
   "metadata": {
    "collapsed": false,
    "pycharm": {
     "name": "#%%\n",
     "is_executing": false
    }
   }
  },
  {
   "cell_type": "markdown",
   "source": [
    "Iterate on the subjects applying the algorithm, validating the results using the technique 10-fold cross-validation"
   ],
   "metadata": {
    "collapsed": false
   }
  },
  {
   "cell_type": "code",
   "execution_count": 9,
   "outputs": [
    {
     "name": "stdout",
     "text": [
      "Loading data ...\n",
      "Pre-processing ...\n",
      "Applying 5º order Butterworth bandpass filter (7-30 Hz)\n",
      "Spatial-filtering ...\n",
      "Extracting features ...\n",
      "Classifying features ...\n",
      "GNB accuracy: 0.6643\n",
      "SVM accuracy: 0.8500\n",
      "LDA accuracy: 0.7786\n",
      "GNB accuracy: 0.6929\n",
      "SVM accuracy: 0.8286\n",
      "LDA accuracy: 0.8000\n",
      "GNB accuracy: 0.7071\n",
      "SVM accuracy: 0.8000\n",
      "LDA accuracy: 0.7714\n",
      "GNB accuracy: 0.6929\n",
      "SVM accuracy: 0.7571\n",
      "LDA accuracy: 0.7571\n",
      "GNB accuracy: 0.7143\n",
      "SVM accuracy: 0.7929\n",
      "LDA accuracy: 0.7643\n",
      "GNB accuracy: 0.7214\n",
      "SVM accuracy: 0.8000\n",
      "LDA accuracy: 0.7857\n",
      "GNB accuracy: 0.6786\n",
      "SVM accuracy: 0.7857\n",
      "LDA accuracy: 0.7357\n",
      "GNB accuracy: 0.6929\n",
      "SVM accuracy: 0.8143\n",
      "LDA accuracy: 0.7500\n",
      "GNB accuracy: 0.6929\n",
      "SVM accuracy: 0.7500\n",
      "LDA accuracy: 0.6857\n",
      "GNB accuracy: 0.7500\n",
      "SVM accuracy: 0.8214\n",
      "LDA accuracy: 0.7857\n",
      "\n"
     ],
     "output_type": "stream"
    }
   ],
   "source": [
    "# Load data\n",
    "print(\"Loading data ...\")\n",
    "path_files = [(f\"{DATA_FOLDER}/left-hand-subject-{subject}.csv\",\n",
    "               f\"{DATA_FOLDER}/right-hand-subject-{subject}.csv\")\n",
    "              for subject in subjects]\n",
    "data = read_eeg_files(path_files, TIME_LENGTH, TIME_WINDOW, EPOCH_SIZE)\n",
    "\n",
    "# Pre-processing\n",
    "print(\"Pre-processing ...\")\n",
    "print(\"Applying 5º order Butterworth bandpass filter (7-30 Hz)\")\n",
    "b, a = signal.butter(5, [7, 30], btype=\"bandpass\", fs=FS)\n",
    "\n",
    "data.left_data = signal.filtfilt(b, a, data.left_data, axis=1)\n",
    "data.right_data = signal.filtfilt(b, a, data.right_data, axis=1)\n",
    "\n",
    "print(\"Spatial-filtering ...\")\n",
    "data.X = np.concatenate((data.left_data, data.right_data))\n",
    "\n",
    "csp = CSP(average_trial_covariance=False, n_components=CSP_COMPONENTS)\n",
    "csp.fit(data.left_data, data.right_data)\n",
    "data.Z = np.array([csp.project(x) for x in data.X])\n",
    "\n",
    "# Feature extraction\n",
    "print(\"Extracting features ...\")\n",
    "data.F = np.zeros((data.X.shape[0], 2, CSP_COMPONENTS))\n",
    "for n_epoch in range(0, data.X.shape[0]):\n",
    "    epoch = data.Z[n_epoch]\n",
    "\n",
    "    # Calculate the wavelet features\n",
    "    for n_feature in range(0, data.F.shape[2]):\n",
    "        alpha_band, beta_band = pywt.dwt(epoch[:, n_feature], WAVELET)\n",
    "        data.F[n_epoch, 0, n_feature] = np.sum(beta_band ** 2)\n",
    "\n",
    "    # Calculate the frequency-domain features\n",
    "    psd_window_size = 100\n",
    "    psd_window_overlap = psd_window_size//2\n",
    "    beta_freqs = range(13, 31)\n",
    "    for n_feature in range(0, data.F.shape[2]):\n",
    "        freq, psd = signal.welch(epoch[:, n_feature], fs=FS, window=\"hanning\",\n",
    "                                 nperseg=psd_window_size, noverlap=psd_window_overlap)\n",
    "        data.F[n_epoch, 1, n_feature] = np.sum(psd[beta_freqs] ** 2)\n",
    "\n",
    "len_features = data.F.shape[1] * data.F.shape[2]\n",
    "data.F = np.reshape(data.F, newshape=(data.F.shape[0], len_features))\n",
    "\n",
    "# Feature normalization\n",
    "data.F = stats.zscore(data.F, axis=0)\n",
    "\n",
    "# Classification\n",
    "print(\"Classifying features ...\")\n",
    "\n",
    "cv = KFold(n_splits=K_FOLD, shuffle=True)\n",
    "for (k, (train_index, test_index)) in enumerate(cv.split(data.F)):\n",
    "    X_train, X_test = data.F[train_index], data.F[test_index]\n",
    "    y_train, y_test = data.labels[train_index], data.labels[test_index]\n",
    "\n",
    "    # GNB classifier\n",
    "    gnb = GaussianNB()\n",
    "    gnb.fit(X_train, y_train)\n",
    "    gnb_predictions = gnb.predict(X_test)\n",
    "    gnb_accuracy = accuracy_score(y_test, gnb_predictions)\n",
    "    print(f\"GNB accuracy: {gnb_accuracy:.4f}\")\n",
    "    accuracies[\"GNB\"][k] = gnb_accuracy\n",
    "\n",
    "    # SVM classifier\n",
    "    svm = SVC(C=.8, gamma=\"scale\", kernel=\"rbf\")\n",
    "    svm.fit(X_train, y_train)\n",
    "    svm_predictions = svm.predict(X_test)\n",
    "    svm_accuracy = accuracy_score(y_test, svm_predictions)\n",
    "    print(f\"SVM accuracy: {svm_accuracy:.4f}\")\n",
    "    accuracies[\"SVM\"][k] = svm_accuracy\n",
    "\n",
    "    # LDA classifier\n",
    "    lda = LinearDiscriminantAnalysis()\n",
    "    lda.fit(X_train, y_train)\n",
    "    lda_predictions = lda.predict(X_test)\n",
    "    lda_accuracy = accuracy_score(y_test, lda_predictions)\n",
    "    print(f\"LDA accuracy: {lda_accuracy:.4f}\")\n",
    "    accuracies[\"LDA\"][k] = lda_accuracy\n",
    "\n",
    "print()"
   ],
   "metadata": {
    "collapsed": false,
    "pycharm": {
     "name": "#%%\n",
     "is_executing": false
    }
   }
  },
  {
   "cell_type": "markdown",
   "source": [
    "Print the results obtained by the 10-fold cross-validation from each classification algorithm"
   ],
   "metadata": {
    "collapsed": false
   }
  },
  {
   "cell_type": "code",
   "execution_count": 12,
   "outputs": [
    {
     "name": "stdout",
     "text": [
      "GNB\n",
      "\tK=1 average accuracy: 0.6643 +/- 0.0000\n",
      "\tK=2 average accuracy: 0.6929 +/- 0.0000\n",
      "\tK=3 average accuracy: 0.7071 +/- 0.0000\n",
      "\tK=4 average accuracy: 0.6929 +/- 0.0000\n",
      "\tK=5 average accuracy: 0.7143 +/- 0.0000\n",
      "\tK=6 average accuracy: 0.7214 +/- 0.0000\n",
      "\tK=7 average accuracy: 0.6786 +/- 0.0000\n",
      "\tK=8 average accuracy: 0.6929 +/- 0.0000\n",
      "\tK=9 average accuracy: 0.6929 +/- 0.0000\n",
      "\tK=10 average accuracy: 0.7500 +/- 0.0000\n",
      "\tAverage accuracy: 0.7007 +/- 0.0227\n",
      "SVM\n",
      "\tK=1 average accuracy: 0.8500 +/- 0.0000\n",
      "\tK=2 average accuracy: 0.8286 +/- 0.0000\n",
      "\tK=3 average accuracy: 0.8000 +/- 0.0000\n",
      "\tK=4 average accuracy: 0.7571 +/- 0.0000\n",
      "\tK=5 average accuracy: 0.7929 +/- 0.0000\n",
      "\tK=6 average accuracy: 0.8000 +/- 0.0000\n",
      "\tK=7 average accuracy: 0.7857 +/- 0.0000\n",
      "\tK=8 average accuracy: 0.8143 +/- 0.0000\n",
      "\tK=9 average accuracy: 0.7500 +/- 0.0000\n",
      "\tK=10 average accuracy: 0.8214 +/- 0.0000\n",
      "\tAverage accuracy: 0.8000 +/- 0.0293\n",
      "LDA\n",
      "\tK=1 average accuracy: 0.7786 +/- 0.0000\n",
      "\tK=2 average accuracy: 0.8000 +/- 0.0000\n",
      "\tK=3 average accuracy: 0.7714 +/- 0.0000\n",
      "\tK=4 average accuracy: 0.7571 +/- 0.0000\n",
      "\tK=5 average accuracy: 0.7643 +/- 0.0000\n",
      "\tK=6 average accuracy: 0.7857 +/- 0.0000\n",
      "\tK=7 average accuracy: 0.7357 +/- 0.0000\n",
      "\tK=8 average accuracy: 0.7500 +/- 0.0000\n",
      "\tK=9 average accuracy: 0.6857 +/- 0.0000\n",
      "\tK=10 average accuracy: 0.7857 +/- 0.0000\n",
      "\tAverage accuracy: 0.7614 +/- 0.0310\n"
     ],
     "output_type": "stream"
    }
   ],
   "source": [
    "for classifier in accuracies:\n",
    "    print(classifier)\n",
    "    for k, cv_accuracies in enumerate(accuracies[classifier]):\n",
    "        acc_mean = np.mean(cv_accuracies)\n",
    "        acc_std = np.std(cv_accuracies)\n",
    "        print(f\"\\tK={k+1} average accuracy: {acc_mean:.4f} +/- {acc_std:.4f}\")\n",
    "    average_acc_mean = np.mean(accuracies[classifier])\n",
    "    average_acc_std = np.std(accuracies[classifier])\n",
    "    print(f\"\\tAverage accuracy: {average_acc_mean:.4f} +/- {average_acc_std:.4f}\")\n"
   ],
   "metadata": {
    "collapsed": false,
    "pycharm": {
     "name": "#%%\n",
     "is_executing": false
    }
   }
  }
 ],
 "metadata": {
  "kernelspec": {
   "display_name": "Python 3",
   "language": "python",
   "name": "python3"
  },
  "language_info": {
   "codemirror_mode": {
    "name": "ipython",
    "version": 2
   },
   "file_extension": ".py",
   "mimetype": "text/x-python",
   "name": "python",
   "nbconvert_exporter": "python",
   "pygments_lexer": "ipython2",
   "version": "2.7.6"
  },
  "pycharm": {
   "stem_cell": {
    "cell_type": "raw",
    "source": [],
    "metadata": {
     "collapsed": false
    }
   }
  }
 },
 "nbformat": 4,
 "nbformat_minor": 0
}