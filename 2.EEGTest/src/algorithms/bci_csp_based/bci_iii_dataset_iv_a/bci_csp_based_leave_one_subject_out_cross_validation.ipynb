{
 "cells": [
  {
   "cell_type": "code",
   "execution_count": 1,
   "outputs": [],
   "source": [
    "from src.data_preparation.data_preparation import read_eeg_file, read_eeg_files\n",
    "from scipy import signal\n",
    "from src.algorithms.csp.CSP import CSP\n",
    "import pywt\n",
    "from scipy import stats\n",
    "from sklearn.naive_bayes import GaussianNB\n",
    "from sklearn.svm import SVC\n",
    "from sklearn.discriminant_analysis import LinearDiscriminantAnalysis\n",
    "from sklearn.metrics import accuracy_score\n",
    "from src.evaluation.evaluation import plot_accuracies_by_subjects\n",
    "import numpy as np"
   ],
   "metadata": {
    "collapsed": false,
    "pycharm": {
     "name": "#%%\n",
     "is_executing": false
    }
   }
  },
  {
   "cell_type": "markdown",
   "source": [
    "Declaration of important values used during the pipeline "
   ],
   "metadata": {
    "collapsed": false
   }
  },
  {
   "cell_type": "code",
   "execution_count": 2,
   "outputs": [],
   "source": [
    "TIME_LENGTH = 300\n",
    "TIME_WINDOW = 300\n",
    "EPOCH_SIZE = None\n",
    "DATA_FOLDER = \"data/bci-csp-based/bci-iii-dataset-iv-a\"\n",
    "CSP_COMPONENTS = 8\n",
    "FS = 100\n",
    "WAVELET = \"coif1\""
   ],
   "metadata": {
    "collapsed": false,
    "pycharm": {
     "name": "#%%\n",
     "is_executing": false
    }
   }
  },
  {
   "cell_type": "markdown",
   "source": [
    "Create the subjects object and a dictionary to store the accuracies"
   ],
   "metadata": {
    "collapsed": false
   }
  },
  {
   "cell_type": "code",
   "execution_count": 3,
   "outputs": [],
   "source": [
    "subjects = range(1, 6)\n",
    "subjects_set = set(subjects)\n",
    "accuracies = {\n",
    "    \"GNB\": np.zeros((len(subjects))),\n",
    "    \"SVM\": np.zeros((len(subjects))),\n",
    "    \"LDA\": np.zeros((len(subjects)))\n",
    "}"
   ],
   "metadata": {
    "collapsed": false,
    "pycharm": {
     "name": "#%%\n",
     "is_executing": false
    }
   }
  },
  {
   "cell_type": "markdown",
   "source": [
    "Iterate on the subjects applying the algorithm, validating the results using the technique one subject out cross validation, to verify the stability of the algorithm to different subjects"
   ],
   "metadata": {
    "collapsed": false
   }
  },
  {
   "cell_type": "code",
   "execution_count": 4,
   "outputs": [
    {
     "name": "stdout",
     "text": [
      "Test subject:  1\n",
      "Training subjects:  [2, 3, 4, 5]\n",
      "Loading training data ...\n",
      "Loading test data ...\n",
      "Pre-processing ...\n",
      "Applying 5º order Butterworth bandpass filter (7-30 Hz)\n",
      "Spatial-filtering ...\n",
      "Extracting features ...\n",
      "Classifying features ...\n",
      "GNB accuracy: 0.4679\n",
      "SVM accuracy: 0.7607\n",
      "LDA accuracy: 0.7286\n",
      "\n",
      "Test subject:  2\n",
      "Training subjects:  [1, 3, 4, 5]\n",
      "Loading training data ...\n",
      "Loading test data ...\n",
      "Pre-processing ...\n",
      "Applying 5º order Butterworth bandpass filter (7-30 Hz)\n",
      "Spatial-filtering ...\n",
      "Extracting features ...\n",
      "Classifying features ...\n",
      "GNB accuracy: 0.7893\n",
      "SVM accuracy: 0.8429\n",
      "LDA accuracy: 0.8393\n",
      "\n",
      "Test subject:  3\n",
      "Training subjects:  [1, 2, 4, 5]\n",
      "Loading training data ...\n",
      "Loading test data ...\n",
      "Pre-processing ...\n",
      "Applying 5º order Butterworth bandpass filter (7-30 Hz)\n",
      "Spatial-filtering ...\n",
      "Extracting features ...\n",
      "Classifying features ...\n",
      "GNB accuracy: 0.6607\n",
      "SVM accuracy: 0.7357\n",
      "LDA accuracy: 0.7179\n",
      "\n",
      "Test subject:  4\n",
      "Training subjects:  [1, 2, 3, 5]\n",
      "Loading training data ...\n",
      "Loading test data ...\n",
      "Pre-processing ...\n",
      "Applying 5º order Butterworth bandpass filter (7-30 Hz)\n",
      "Spatial-filtering ...\n",
      "Extracting features ...\n",
      "Classifying features ...\n",
      "GNB accuracy: 0.7643\n",
      "SVM accuracy: 0.8964\n",
      "LDA accuracy: 0.8786\n",
      "\n",
      "Test subject:  5\n",
      "Training subjects:  [1, 2, 3, 4]\n",
      "Loading training data ...\n",
      "Loading test data ...\n",
      "Pre-processing ...\n",
      "Applying 5º order Butterworth bandpass filter (7-30 Hz)\n",
      "Spatial-filtering ...\n",
      "Extracting features ...\n",
      "Classifying features ...\n",
      "GNB accuracy: 0.4821\n",
      "SVM accuracy: 0.8536\n",
      "LDA accuracy: 0.9000\n",
      "\n"
     ],
     "output_type": "stream"
    }
   ],
   "source": [
    "for test_subject in subjects:\n",
    "    print(\"Test subject: \", test_subject)\n",
    "    training_subjects = list(subjects_set - {test_subject})\n",
    "    print(\"Training subjects: \", training_subjects)\n",
    "\n",
    "    # Load training data\n",
    "    print(\"Loading training data ...\")\n",
    "    path_files = [(f\"{DATA_FOLDER}/left-hand-subject-{training_subject}.csv\",\n",
    "                   f\"{DATA_FOLDER}/right-hand-subject-{training_subject}.csv\")\n",
    "                  for training_subject in training_subjects]\n",
    "    training_data = read_eeg_files(path_files, TIME_LENGTH, TIME_WINDOW, EPOCH_SIZE)\n",
    "\n",
    "    # Load test data\n",
    "    print(\"Loading test data ...\")\n",
    "    left_data_file = f\"{DATA_FOLDER}/left-hand-subject-{test_subject}.csv\"\n",
    "    right_data_file = f\"{DATA_FOLDER}/right-hand-subject-{test_subject}.csv\"\n",
    "    test_data = read_eeg_file(left_data_file, right_data_file, TIME_LENGTH, TIME_WINDOW, EPOCH_SIZE, False)\n",
    "\n",
    "    # Pre-processing\n",
    "    print(\"Pre-processing ...\")\n",
    "    print(\"Applying 5º order Butterworth bandpass filter (7-30 Hz)\")\n",
    "    b, a = signal.butter(5, [7, 30], btype=\"bandpass\", fs=FS)\n",
    "\n",
    "    training_data.left_data = signal.filtfilt(b, a, training_data.left_data, axis=1)\n",
    "    training_data.right_data = signal.filtfilt(b, a, training_data.right_data, axis=1)\n",
    "\n",
    "    test_data.left_data = signal.filtfilt(b, a, test_data.left_data, axis=1)\n",
    "    test_data.right_data = signal.filtfilt(b, a, test_data.right_data, axis=1)\n",
    "\n",
    "    print(\"Spatial-filtering ...\")\n",
    "    training_data.X = np.concatenate((training_data.left_data, training_data.right_data))\n",
    "    test_data.X = np.concatenate((test_data.left_data, test_data.right_data))\n",
    "\n",
    "    csp = CSP(average_trial_covariance=True, n_components=CSP_COMPONENTS)\n",
    "    csp.fit(training_data.left_data, training_data.right_data)\n",
    "    training_data.Z = np.array([csp.project(x) for x in training_data.X])\n",
    "\n",
    "    csp = CSP(average_trial_covariance=True, n_components=CSP_COMPONENTS)\n",
    "    csp.fit(test_data.left_data, test_data.right_data)\n",
    "    test_data.Z = np.array([csp.project(x) for x in test_data.X])\n",
    "\n",
    "    # Feature extraction\n",
    "    print(\"Extracting features ...\")\n",
    "    training_data.F = np.zeros((training_data.X.shape[0], 2, CSP_COMPONENTS))\n",
    "    for n_epoch in range(0, training_data.X.shape[0]):\n",
    "        epoch = training_data.Z[n_epoch]\n",
    "\n",
    "        # Calculate the wavelet features\n",
    "        for n_feature in range(0, training_data.F.shape[2]):\n",
    "            alpha_band, beta_band = pywt.dwt(epoch[:, n_feature], WAVELET)\n",
    "            training_data.F[n_epoch, 0, n_feature] = np.sum(beta_band ** 2)\n",
    "\n",
    "        # Calculate the frequency-domain features\n",
    "        psd_window_size = 100\n",
    "        psd_window_overlap = psd_window_size//2\n",
    "        beta_freqs = range(13, 31)\n",
    "        for n_feature in range(0, training_data.F.shape[2]):\n",
    "            freq, psd = signal.welch(epoch[:, n_feature], fs=FS, window=\"hanning\",\n",
    "                                     nperseg=psd_window_size, noverlap=psd_window_overlap)\n",
    "            training_data.F[n_epoch, 1, n_feature] = np.sum(psd[beta_freqs] ** 2)\n",
    "\n",
    "    test_data.F = np.zeros((test_data.X.shape[0], 2, CSP_COMPONENTS))\n",
    "    for n_epoch in range(0, test_data.X.shape[0]):\n",
    "        epoch = test_data.Z[n_epoch]\n",
    "\n",
    "        # Calculate the wavelet features\n",
    "        for n_feature in range(0, test_data.F.shape[2]):\n",
    "            alpha_band, beta_band = pywt.dwt(epoch[:, n_feature], WAVELET)\n",
    "            test_data.F[n_epoch, 0, n_feature] = np.sum(beta_band ** 2)\n",
    "\n",
    "        # Calculate the frequency-domain features\n",
    "        psd_window_size = 100\n",
    "        psd_window_overlap = psd_window_size // 2\n",
    "        beta_freqs = range(13, 31)\n",
    "        for n_feature in range(0, test_data.F.shape[2]):\n",
    "            freq, psd = signal.welch(epoch[:, n_feature], fs=FS, window=\"hanning\",\n",
    "                                     nperseg=psd_window_size, noverlap=psd_window_overlap)\n",
    "            test_data.F[n_epoch, 1, n_feature] = np.sum(psd[beta_freqs] ** 2)\n",
    "\n",
    "    len_features = training_data.F.shape[1] * training_data.F.shape[2]\n",
    "    training_data.F = np.reshape(training_data.F, newshape=(training_data.F.shape[0], len_features))\n",
    "    test_data.F = np.reshape(test_data.F, newshape=(test_data.F.shape[0], len_features))\n",
    "\n",
    "    # Feature normalization\n",
    "    training_data.F = stats.zscore(training_data.F, axis=0)\n",
    "    test_data.F = stats.zscore(test_data.F, axis=0)\n",
    "\n",
    "    # Classification\n",
    "    print(\"Classifying features ...\")\n",
    "    subject_index = test_subject - 1\n",
    "\n",
    "    # GNB classifier\n",
    "    gnb = GaussianNB()\n",
    "    gnb.fit(training_data.F, training_data.labels)\n",
    "    gnb_predictions = gnb.predict(test_data.F)\n",
    "    gnb_accuracy = accuracy_score(test_data.labels, gnb_predictions)\n",
    "    print(f\"GNB accuracy: {gnb_accuracy:.4f}\")\n",
    "    accuracies[\"GNB\"][subject_index] = gnb_accuracy\n",
    "\n",
    "    # SVM classifier\n",
    "    svm = SVC(C=.8, gamma=\"scale\", kernel=\"rbf\")\n",
    "    svm.fit(training_data.F, training_data.labels)\n",
    "    svm_predictions = svm.predict(test_data.F)\n",
    "    svm_accuracy = accuracy_score(test_data.labels, svm_predictions)\n",
    "    print(f\"SVM accuracy: {svm_accuracy:.4f}\")\n",
    "    accuracies[\"SVM\"][subject_index] = svm_accuracy\n",
    "\n",
    "    # LDA classifier\n",
    "    lda = LinearDiscriminantAnalysis()\n",
    "    lda.fit(training_data.F, training_data.labels)\n",
    "    lda_predictions = lda.predict(test_data.F)\n",
    "    lda_accuracy = accuracy_score(test_data.labels, lda_predictions)\n",
    "    print(f\"LDA accuracy: {lda_accuracy:.4f}\")\n",
    "    accuracies[\"LDA\"][subject_index] = lda_accuracy\n",
    "\n",
    "    print()"
   ],
   "metadata": {
    "collapsed": false,
    "pycharm": {
     "name": "#%%\n",
     "is_executing": false
    }
   }
  },
  {
   "cell_type": "markdown",
   "source": [
    "Plot the accuracies obtained by subjects to each classification algorithm"
   ],
   "metadata": {
    "collapsed": false
   }
  },
  {
   "cell_type": "code",
   "execution_count": 5,
   "outputs": [
    {
     "data": {
      "text/plain": "<Figure size 432x288 with 1 Axes>",
      "image/png": "[encoded data removed]"
     },
     "metadata": {
      "needs_background": "light"
     },
     "output_type": "display_data"
    }
   ],
   "source": [
    "plot_accuracies_by_subjects(subjects, accuracies)"
   ],
   "metadata": {
    "collapsed": false,
    "pycharm": {
     "name": "#%%\n",
     "is_executing": false
    }
   }
  },
  {
   "cell_type": "markdown",
   "source": [
    "Print the results obtained by the 10-fold cross-validation from each classification algorithm"
   ],
   "metadata": {
    "collapsed": false
   }
  },
  {
   "cell_type": "code",
   "execution_count": 6,
   "outputs": [
    {
     "name": "stdout",
     "text": [
      "GNB\n",
      "\tSubject 1 accuracy: 0.4679\n",
      "\tSubject 2 accuracy: 0.7893\n",
      "\tSubject 3 accuracy: 0.6607\n",
      "\tSubject 4 accuracy: 0.7643\n",
      "\tSubject 5 accuracy: 0.4821\n",
      "\tAverage accuracy: 0.6329 +/- 0.1360\n",
      "SVM\n",
      "\tSubject 1 accuracy: 0.7607\n",
      "\tSubject 2 accuracy: 0.8429\n",
      "\tSubject 3 accuracy: 0.7357\n",
      "\tSubject 4 accuracy: 0.8964\n",
      "\tSubject 5 accuracy: 0.8536\n",
      "\tAverage accuracy: 0.8179 +/- 0.0601\n",
      "LDA\n",
      "\tSubject 1 accuracy: 0.7286\n",
      "\tSubject 2 accuracy: 0.8393\n",
      "\tSubject 3 accuracy: 0.7179\n",
      "\tSubject 4 accuracy: 0.8786\n",
      "\tSubject 5 accuracy: 0.9000\n",
      "\tAverage accuracy: 0.8129 +/- 0.0758\n"
     ],
     "output_type": "stream"
    }
   ],
   "source": [
    "for classifier in accuracies.keys():\n",
    "    print(classifier)\n",
    "    for subject, acc in enumerate(accuracies[classifier]):\n",
    "        print(f\"\\tSubject {subject+1} accuracy: {acc:.4f}\")\n",
    "    acc_mean = np.mean(accuracies[classifier])\n",
    "    std_mean = np.std(accuracies[classifier])\n",
    "    print(f\"\\tAverage accuracy: {acc_mean:.4f} +/- {std_mean:.4f}\")\n"
   ],
   "metadata": {
    "collapsed": false,
    "pycharm": {
     "name": "#%%\n",
     "is_executing": false
    }
   }
  }
 ],
 "metadata": {
  "kernelspec": {
   "display_name": "Python 3",
   "language": "python",
   "name": "python3"
  },
  "language_info": {
   "codemirror_mode": {
    "name": "ipython",
    "version": 2
   },
   "file_extension": ".py",
   "mimetype": "text/x-python",
   "name": "python",
   "nbconvert_exporter": "python",
   "pygments_lexer": "ipython2",
   "version": "2.7.6"
  },
  "pycharm": {
   "stem_cell": {
    "cell_type": "raw",
    "source": [],
    "metadata": {
     "collapsed": false
    }
   }
  }
 },
 "nbformat": 4,
 "nbformat_minor": 0
}