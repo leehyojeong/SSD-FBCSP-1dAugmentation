{
 "cells": [
  {
   "cell_type": "code",
   "source": [
    "from src.data_preparation.data_preparation import read_eeg_file\n",
    "from src.algorithms.csp.CSP import CSP\n",
    "from scipy import signal\n",
    "from src.algorithms.fbcsp.MIBIFFeatureSelection import MIBIFFeatureSelection\n",
    "from sklearn.model_selection import KFold\n",
    "from sklearn.naive_bayes import GaussianNB\n",
    "from sklearn.svm import SVC\n",
    "from sklearn.discriminant_analysis import LinearDiscriminantAnalysis\n",
    "from sklearn.metrics import accuracy_score\n",
    "import numpy as np"
   ],
   "metadata": {
    "collapsed": false,
    "pycharm": {
     "name": "#%%\n",
     "is_executing": false
    }
   },
   "execution_count": 1,
   "outputs": []
  },
  {
   "cell_type": "markdown",
   "source": [
    "Define the constants to the data segmentation"
   ],
   "metadata": {
    "collapsed": false
   }
  },
  {
   "cell_type": "code",
   "execution_count": 8,
   "outputs": [],
   "source": [
    "TIME_LENGTH = 750\n",
    "TIME_WINDOW = 500\n",
    "EPOCH_SIZE = None"
   ],
   "metadata": {
    "collapsed": false,
    "pycharm": {
     "name": "#%%\n",
     "is_executing": false
    }
   }
  },
  {
   "cell_type": "markdown",
   "source": [
    "Define the path of the data"
   ],
   "metadata": {
    "collapsed": false,
    "pycharm": {
     "name": "#%% md\n"
    }
   }
  },
  {
   "cell_type": "code",
   "execution_count": 3,
   "outputs": [],
   "source": [
    "DATA_FOLDER = \"data/fbcsp/bci-iv-dataset-2b/with-feedback-to-user\""
   ],
   "metadata": {
    "collapsed": false,
    "pycharm": {
     "name": "#%%\n",
     "is_executing": false
    }
   }
  },
  {
   "cell_type": "markdown",
   "source": [
    "Define the object to store the accuracies"
   ],
   "metadata": {
    "collapsed": false
   }
  },
  {
   "cell_type": "code",
   "execution_count": 4,
   "outputs": [],
   "source": [
    "K_FOLD = 10\n",
    "subjects = range(1, 10)\n",
    "accuracies = {\n",
    "    \"GNB\": np.zeros((len(subjects), K_FOLD)),\n",
    "    \"SVM\": np.zeros((len(subjects), K_FOLD)),\n",
    "    \"LDA\": np.zeros((len(subjects), K_FOLD))\n",
    "}"
   ],
   "metadata": {
    "collapsed": false,
    "pycharm": {
     "name": "#%%\n",
     "is_executing": false
    }
   }
  },
  {
   "cell_type": "markdown",
   "source": [
    "Define the objects with the bands used by the Filter Bank"
   ],
   "metadata": {
    "collapsed": false
   }
  },
  {
   "cell_type": "code",
   "execution_count": 5,
   "outputs": [],
   "source": [
    "band_length = 4\n",
    "min_freq = 4\n",
    "max_freq = 40\n",
    "bands = [(x, x+band_length) for x in range(min_freq, max_freq, band_length)]\n",
    "quantity_bands = len(bands)\n",
    "\n",
    "del band_length\n",
    "del min_freq\n",
    "del max_freq"
   ],
   "metadata": {
    "collapsed": false,
    "pycharm": {
     "name": "#%%\n",
     "is_executing": false
    }
   }
  },
  {
   "cell_type": "markdown",
   "source": [
    "Define the function to apply the filter bank to the data"
   ],
   "metadata": {
    "collapsed": false
   }
  },
  {
   "cell_type": "code",
   "source": [
    "def filter_bank(x):\n",
    "    data = np.zeros((quantity_bands, *x.shape))\n",
    "    for n_trial in range(x.shape[0]):\n",
    "        trial = x[n_trial, :, :]\n",
    "        filter_bank = np.zeros((quantity_bands, *trial.shape))\n",
    "\n",
    "        for (i, (low_freq, high_freq)) in enumerate(bands):\n",
    "            # Create a 5 order Chebyshev Type 2 filter to the specific band (low_freq - high_freq)\n",
    "            b, a = signal.cheby2(5, 48, [low_freq, high_freq], btype=\"bandpass\", fs=250)\n",
    "\n",
    "            filter_bank[i, :, :] = signal.filtfilt(b, a, trial, axis=0)\n",
    "        data[:, n_trial, :, :] = filter_bank\n",
    "\n",
    "    return data"
   ],
   "metadata": {
    "collapsed": false,
    "pycharm": {
     "name": "#%%\n",
     "is_executing": false
    }
   },
   "execution_count": 6,
   "outputs": []
  },
  {
   "cell_type": "markdown",
   "source": [
    "Read the EEG data"
   ],
   "metadata": {
    "collapsed": false
   }
  },
  {
   "cell_type": "code",
   "source": [
    "print(\"Loading data ...\")\n",
    "data_by_subject = []\n",
    "\n",
    "for subject in subjects:\n",
    "    left_data_file = f\"{DATA_FOLDER}/left-hand-subject-{subject}.csv\"\n",
    "    right_data_file = f\"{DATA_FOLDER}/right-hand-subject-{subject}.csv\"\n",
    "    data = read_eeg_file(left_data_file, right_data_file, TIME_LENGTH, TIME_WINDOW, EPOCH_SIZE)\n",
    "\n",
    "    data.X = np.concatenate((data.left_data, data.right_data))\n",
    "    data_by_subject.append(data)\n",
    "\n",
    "del subject\n",
    "del left_data_file\n",
    "del right_data_file\n",
    "del data\n",
    "\n",
    "print(\"Data loaded\")"
   ],
   "metadata": {
    "collapsed": false,
    "pycharm": {
     "name": "#%%\n",
     "is_executing": false
    }
   },
   "execution_count": 9,
   "outputs": [
    {
     "name": "stdout",
     "text": [
      "Loading data ...\n",
      "Data loaded\n"
     ],
     "output_type": "stream"
    }
   ]
  },
  {
   "cell_type": "markdown",
   "source": [
    "Extract the features and classify applying 10 cross-validation"
   ],
   "metadata": {
    "collapsed": false
   }
  },
  {
   "cell_type": "code",
   "execution_count": 10,
   "outputs": [
    {
     "name": "stdout",
     "text": [
      "Subject:  1\n",
      "Subject:  2\n",
      "Subject:  3\n",
      "Subject:  4\n",
      "Subject:  5\n",
      "Subject:  6\n",
      "Subject:  7\n",
      "Subject:  8\n",
      "Subject:  9\n"
     ],
     "output_type": "stream"
    }
   ],
   "source": [
    "for (i, data) in enumerate(data_by_subject):\n",
    "    print(\"Subject: \", i+1)\n",
    "\n",
    "    cv = KFold(n_splits=K_FOLD, shuffle=True)\n",
    "    for (k, (train_index, test_index)) in enumerate(cv.split(data.X)):\n",
    "        trials = len(data.left_data)\n",
    "\n",
    "        train_left_index = [index for index in train_index if index < trials]\n",
    "        train_right_index = [index - trials for index in train_index if index >= trials]\n",
    "        X_left_train, X_right_train = data.left_data[train_left_index], data.right_data[train_right_index]\n",
    "\n",
    "        test_left_index = [index for index in test_index if index < trials]\n",
    "        test_right_index = [index - trials for index in test_index if index >= trials]\n",
    "        X_left_test, X_right_test = data.left_data[test_left_index], data.right_data[test_right_index]\n",
    "\n",
    "        y_train, y_test = data.labels[train_index], data.labels[test_index]\n",
    "\n",
    "        # Feature extraction\n",
    "        N_CSP_COMPONENTS = 2\n",
    "        csp_by_band = [CSP(average_trial_covariance=False, n_components=N_CSP_COMPONENTS)\n",
    "                       for _ in bands]\n",
    "\n",
    "        left_bands_training = filter_bank(X_left_train)\n",
    "        right_bands_training = filter_bank(X_right_train)\n",
    "        left_bands_test = filter_bank(X_left_test)\n",
    "        right_bands_test = filter_bank(X_right_test)\n",
    "\n",
    "        features_train = None\n",
    "        features_test = None\n",
    "        for n_band in range(quantity_bands):\n",
    "            left_band_training = left_bands_training[n_band]\n",
    "            right_band_training = right_bands_training[n_band]\n",
    "            left_band_test = left_bands_test[n_band]\n",
    "            right_band_test = right_bands_test[n_band]\n",
    "\n",
    "            csp = csp_by_band[n_band]\n",
    "            csp.fit(left_band_training, right_band_training)\n",
    "            x_train = np.concatenate((left_band_training, right_band_training))\n",
    "            x_test = np.concatenate((left_band_test, right_band_test))\n",
    "\n",
    "            if n_band == 0:\n",
    "                features_train = csp.compute_features(x_train)\n",
    "                features_test = csp.compute_features(x_test)\n",
    "            else:\n",
    "                features_train = np.concatenate((features_train, csp.compute_features(x_train)), axis=1)\n",
    "                features_test = np.concatenate((features_test, csp.compute_features(x_test)), axis=1)\n",
    "\n",
    "        # Feature Selection\n",
    "        selected_features = MIBIFFeatureSelection(features_train, features_test, y_train, N_CSP_COMPONENTS, 4, scale=True)\n",
    "\n",
    "        selected_training_features = selected_features.training_features\n",
    "        selected_test_features = selected_features.test_features\n",
    "\n",
    "        # GNB classifier\n",
    "        gnb = GaussianNB()\n",
    "        gnb.fit(selected_training_features, y_train)\n",
    "        gnb_predictions = gnb.predict(selected_test_features)\n",
    "        gnb_accuracy = accuracy_score(y_test, gnb_predictions)\n",
    "        accuracies[\"GNB\"][i][k] = gnb_accuracy\n",
    "\n",
    "        # SVM classifier\n",
    "        svm = SVC(C=.8, kernel=\"rbf\")\n",
    "        svm.fit(selected_training_features, y_train)\n",
    "        svm_predictions = svm.predict(selected_test_features)\n",
    "        svm_accuracy = accuracy_score(y_test, svm_predictions)\n",
    "        accuracies[\"SVM\"][i][k] = svm_accuracy\n",
    "\n",
    "        # LDA classifier\n",
    "        lda = LinearDiscriminantAnalysis()\n",
    "        lda.fit(selected_training_features, y_train)\n",
    "        lda_predictions = lda.predict(selected_test_features)\n",
    "        lda_accuracy = accuracy_score(y_test, lda_predictions)\n",
    "        accuracies[\"LDA\"][i][k] = lda_accuracy"
   ],
   "metadata": {
    "collapsed": false,
    "pycharm": {
     "name": "#%%\n",
     "is_executing": false
    }
   }
  },
  {
   "cell_type": "markdown",
   "source": [
    "Evaluation"
   ],
   "metadata": {
    "collapsed": false
   }
  },
  {
   "cell_type": "code",
   "execution_count": 11,
   "outputs": [
    {
     "name": "stdout",
     "text": [
      "GNB\n",
      "\tSubject 1 average accuracy: 0.6621 +/- 0.0892\n",
      "\tSubject 2 average accuracy: 0.5135 +/- 0.0779\n",
      "\tSubject 3 average accuracy: 0.5599 +/- 0.0620\n",
      "\tSubject 4 average accuracy: 0.9283 +/- 0.0196\n",
      "\tSubject 5 average accuracy: 0.8414 +/- 0.0701\n",
      "\tSubject 6 average accuracy: 0.7476 +/- 0.0628\n",
      "\tSubject 7 average accuracy: 0.7865 +/- 0.0573\n",
      "\tSubject 8 average accuracy: 0.7918 +/- 0.0694\n",
      "\tSubject 9 average accuracy: 0.7868 +/- 0.0432\n",
      "\tAverage accuracy: 0.7353 +/- 0.1412\n",
      "SVM\n",
      "\tSubject 1 average accuracy: 0.6361 +/- 0.0794\n",
      "\tSubject 2 average accuracy: 0.5083 +/- 0.0975\n",
      "\tSubject 3 average accuracy: 0.5426 +/- 0.0729\n",
      "\tSubject 4 average accuracy: 0.9109 +/- 0.0357\n",
      "\tSubject 5 average accuracy: 0.8150 +/- 0.0602\n",
      "\tSubject 6 average accuracy: 0.7196 +/- 0.0744\n",
      "\tSubject 7 average accuracy: 0.7838 +/- 0.0483\n",
      "\tSubject 8 average accuracy: 0.7887 +/- 0.0705\n",
      "\tSubject 9 average accuracy: 0.7632 +/- 0.0333\n",
      "\tAverage accuracy: 0.7187 +/- 0.1412\n",
      "LDA\n",
      "\tSubject 1 average accuracy: 0.6677 +/- 0.0840\n",
      "\tSubject 2 average accuracy: 0.4897 +/- 0.0651\n",
      "\tSubject 3 average accuracy: 0.5339 +/- 0.0662\n",
      "\tSubject 4 average accuracy: 0.9239 +/- 0.0340\n",
      "\tSubject 5 average accuracy: 0.8390 +/- 0.0506\n",
      "\tSubject 6 average accuracy: 0.7298 +/- 0.0709\n",
      "\tSubject 7 average accuracy: 0.8054 +/- 0.0378\n",
      "\tSubject 8 average accuracy: 0.7947 +/- 0.0624\n",
      "\tSubject 9 average accuracy: 0.7947 +/- 0.0258\n",
      "\tAverage accuracy: 0.7310 +/- 0.1468\n"
     ],
     "output_type": "stream"
    }
   ],
   "source": [
    "for classifier in accuracies:\n",
    "    print(classifier)\n",
    "    for subject, cv_accuracies in enumerate(accuracies[classifier]):\n",
    "        acc_mean = np.mean(cv_accuracies)\n",
    "        acc_std = np.std(cv_accuracies)\n",
    "        print(f\"\\tSubject {subject+1} average accuracy: {acc_mean:.4f} +/- {acc_std:.4f}\")\n",
    "    average_acc_mean = np.mean(accuracies[classifier])\n",
    "    average_acc_std = np.std(accuracies[classifier])\n",
    "    print(f\"\\tAverage accuracy: {average_acc_mean:.4f} +/- {average_acc_std:.4f}\")\n"
   ],
   "metadata": {
    "collapsed": false,
    "pycharm": {
     "name": "#%%\n",
     "is_executing": false
    }
   }
  }
 ],
 "metadata": {
  "kernelspec": {
   "display_name": "Python 3",
   "language": "python",
   "name": "python3"
  },
  "language_info": {
   "codemirror_mode": {
    "name": "ipython",
    "version": 2
   },
   "file_extension": ".py",
   "mimetype": "text/x-python",
   "name": "python",
   "nbconvert_exporter": "python",
   "pygments_lexer": "ipython2",
   "version": "2.7.6"
  },
  "pycharm": {
   "stem_cell": {
    "cell_type": "raw",
    "source": [],
    "metadata": {
     "collapsed": false
    }
   }
  }
 },
 "nbformat": 4,
 "nbformat_minor": 0
}